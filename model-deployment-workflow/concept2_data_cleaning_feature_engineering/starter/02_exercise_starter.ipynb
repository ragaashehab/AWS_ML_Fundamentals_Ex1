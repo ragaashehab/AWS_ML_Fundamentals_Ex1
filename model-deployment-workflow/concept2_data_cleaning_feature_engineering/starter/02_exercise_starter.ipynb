{
 "cells": [
  {
   "cell_type": "markdown",
   "metadata": {
    "editable": true
   },
   "source": [
    "# Exercise: Data Cleansing and Feature Engineering\n",
    "\n",
    "In this exercise, we'll be loading in a dataset that has some problems. In order for us to get it ready for our models, we will apply some of the technics we learned.\n",
    "\n",
    "Apply these changes to the `data.csv` dataset.\n",
    "1. Load `data.csv` into a dataframe.\n",
    "2. Output the table info to see if there are any null values.\n",
    "3. Remove all null values from the dataframe.\n",
    "4. Change the `date` column from an object to a `datetime64[ns]` type.\n",
    "5. Change the `weather` column to a category type.\n",
    "6. One hot encode the `date` column to year, month, and day.\n",
    "7. Normalized the columns from the `all_features` list so each feature has a zero mean.\n",
    "8. Create and save the cleaned dataframe, as well as the train/validation/test dataframes to CSV."
   ]
  },
  {
   "cell_type": "code",
   "execution_count": 1,
   "metadata": {
    "editable": true
   },
   "outputs": [],
   "source": [
    "import random\n",
    "from datetime import datetime\n",
    "import pandas as pd\n",
    "import numpy as np\n",
    "\n",
    "from sklearn.datasets import make_regression\n",
    "from sklearn.model_selection import train_test_split\n",
    "from sklearn.preprocessing import StandardScaler"
   ]
  },
  {
   "cell_type": "code",
   "execution_count": 2,
   "metadata": {
    "editable": true
   },
   "outputs": [],
   "source": [
    "# Reading the dataset created by 02_exercise_dataset_creation.ipynb\n",
    "df = pd.read_csv(\"data.csv\")"
   ]
  },
  {
   "cell_type": "code",
   "execution_count": 3,
   "metadata": {
    "editable": true
   },
   "outputs": [
    {
     "data": {
      "text/html": [
       "<div>\n",
       "<style scoped>\n",
       "    .dataframe tbody tr th:only-of-type {\n",
       "        vertical-align: middle;\n",
       "    }\n",
       "\n",
       "    .dataframe tbody tr th {\n",
       "        vertical-align: top;\n",
       "    }\n",
       "\n",
       "    .dataframe thead th {\n",
       "        text-align: right;\n",
       "    }\n",
       "</style>\n",
       "<table border=\"1\" class=\"dataframe\">\n",
       "  <thead>\n",
       "    <tr style=\"text-align: right;\">\n",
       "      <th></th>\n",
       "      <th>feature0</th>\n",
       "      <th>feature1</th>\n",
       "      <th>feature2</th>\n",
       "      <th>date</th>\n",
       "      <th>weather</th>\n",
       "      <th>target</th>\n",
       "    </tr>\n",
       "  </thead>\n",
       "  <tbody>\n",
       "    <tr>\n",
       "      <th>0</th>\n",
       "      <td>0.274647</td>\n",
       "      <td>-0.603620</td>\n",
       "      <td>0.688897</td>\n",
       "      <td>2021-01-01</td>\n",
       "      <td>sunny</td>\n",
       "      <td>41.269783</td>\n",
       "    </tr>\n",
       "    <tr>\n",
       "      <th>1</th>\n",
       "      <td>-0.307691</td>\n",
       "      <td>0.269024</td>\n",
       "      <td>-0.566440</td>\n",
       "      <td>2021-01-01</td>\n",
       "      <td>sunny</td>\n",
       "      <td>-147.974545</td>\n",
       "    </tr>\n",
       "    <tr>\n",
       "      <th>2</th>\n",
       "      <td>0.477809</td>\n",
       "      <td>-0.060138</td>\n",
       "      <td>1.974100</td>\n",
       "      <td>2021-01-01</td>\n",
       "      <td>cloudy</td>\n",
       "      <td>204.597486</td>\n",
       "    </tr>\n",
       "    <tr>\n",
       "      <th>3</th>\n",
       "      <td>-0.603840</td>\n",
       "      <td>-1.149554</td>\n",
       "      <td>-1.188424</td>\n",
       "      <td>2021-01-01</td>\n",
       "      <td>cloudy</td>\n",
       "      <td>-119.535892</td>\n",
       "    </tr>\n",
       "    <tr>\n",
       "      <th>4</th>\n",
       "      <td>0.104714</td>\n",
       "      <td>0.228053</td>\n",
       "      <td>-0.422315</td>\n",
       "      <td>2021-01-01</td>\n",
       "      <td>cloudy</td>\n",
       "      <td>-34.253007</td>\n",
       "    </tr>\n",
       "  </tbody>\n",
       "</table>\n",
       "</div>"
      ],
      "text/plain": [
       "   feature0  feature1  feature2        date weather      target\n",
       "0  0.274647 -0.603620  0.688897  2021-01-01   sunny   41.269783\n",
       "1 -0.307691  0.269024 -0.566440  2021-01-01   sunny -147.974545\n",
       "2  0.477809 -0.060138  1.974100  2021-01-01  cloudy  204.597486\n",
       "3 -0.603840 -1.149554 -1.188424  2021-01-01  cloudy -119.535892\n",
       "4  0.104714  0.228053 -0.422315  2021-01-01  cloudy  -34.253007"
      ]
     },
     "execution_count": 3,
     "metadata": {},
     "output_type": "execute_result"
    }
   ],
   "source": [
    "# Always good to check to see if the data looks right\n",
    "df.head()"
   ]
  },
  {
   "cell_type": "code",
   "execution_count": 4,
   "metadata": {
    "editable": true
   },
   "outputs": [
    {
     "name": "stdout",
     "output_type": "stream",
     "text": [
      "<class 'pandas.core.frame.DataFrame'>\n",
      "RangeIndex: 1000 entries, 0 to 999\n",
      "Data columns (total 6 columns):\n",
      "feature0    997 non-null float64\n",
      "feature1    985 non-null float64\n",
      "feature2    991 non-null float64\n",
      "date        993 non-null object\n",
      "weather     989 non-null object\n",
      "target      1000 non-null float64\n",
      "dtypes: float64(4), object(2)\n",
      "memory usage: 47.0+ KB\n"
     ]
    }
   ],
   "source": [
    "# Output general info about the table, notice we have some null values in all of our features\n",
    "df.info()"
   ]
  },
  {
   "cell_type": "code",
   "execution_count": 8,
   "metadata": {
    "editable": true
   },
   "outputs": [],
   "source": [
    "# Drop all null values\n",
    "df.dropna()\n",
    "df= df.dropna()"
   ]
  },
  {
   "cell_type": "code",
   "execution_count": 9,
   "metadata": {
    "editable": true
   },
   "outputs": [],
   "source": [
    "# Change the date column to a datetime\n",
    "df.loc[:, 'date'] = pd.to_datetime(df.loc[:, 'date'])\n",
    "# Change weather column to a category\n",
    "df.loc[:, 'weather'] = df['weather'].astype('category')"
   ]
  },
  {
   "cell_type": "code",
   "execution_count": 10,
   "metadata": {
    "editable": true
   },
   "outputs": [],
   "source": [
    "# Extract year, month, and day into separate columns\n",
    "df['year'] = df.date.dt.year\n",
    "df['month'] = df.date.dt.month\n",
    "df['day'] = df.date.dt.day"
   ]
  },
  {
   "cell_type": "code",
   "execution_count": 11,
   "metadata": {
    "editable": true
   },
   "outputs": [],
   "source": [
    "# One hot encode the weather category to have individual features. Prefix with `weather`\n",
    "weather_one_hot_df = pd.get_dummies(df.weather, prefix= 'weather')"
   ]
  },
  {
   "cell_type": "code",
   "execution_count": 12,
   "metadata": {
    "editable": true
   },
   "outputs": [],
   "source": [
    "# Add the one hot encoded values back to the df\n",
    "df[weather_one_hot_df.columns.tolist()] = weather_one_hot_df"
   ]
  },
  {
   "cell_type": "code",
   "execution_count": 17,
   "metadata": {
    "editable": true
   },
   "outputs": [
    {
     "name": "stdout",
     "output_type": "stream",
     "text": [
      "<class 'pandas.core.frame.DataFrame'>\n",
      "Int64Index: 957 entries, 0 to 999\n",
      "Data columns (total 12 columns):\n",
      "feature0          957 non-null float64\n",
      "feature1          957 non-null float64\n",
      "feature2          957 non-null float64\n",
      "date              957 non-null datetime64[ns]\n",
      "weather           957 non-null category\n",
      "target            957 non-null float64\n",
      "year              957 non-null int64\n",
      "month             957 non-null int64\n",
      "day               957 non-null int64\n",
      "weather_cloudy    957 non-null uint8\n",
      "weather_rainy     957 non-null uint8\n",
      "weather_sunny     957 non-null uint8\n",
      "dtypes: category(1), datetime64[ns](1), float64(4), int64(3), uint8(3)\n",
      "memory usage: 71.1 KB\n"
     ]
    }
   ],
   "source": [
    "# Verify now that are table info has no nulls and correct Dtypes\n",
    "df.info()"
   ]
  },
  {
   "cell_type": "code",
   "execution_count": 18,
   "metadata": {
    "editable": true
   },
   "outputs": [],
   "source": [
    "# These may change if you decided to call your columns different from above\n",
    "all_features = [\n",
    "    \"feature0\",\n",
    "    \"feature1\",\n",
    "    \"feature2\",\n",
    "    \"year\",\n",
    "    \"month\",\n",
    "    \"day\",\n",
    "    \"weather_cloudy\",\n",
    "    \"weather_rainy\",\n",
    "    \"weather_sunny\",\n",
    "]"
   ]
  },
  {
   "cell_type": "code",
   "execution_count": 20,
   "metadata": {
    "editable": true
   },
   "outputs": [
    {
     "data": {
      "text/html": [
       "<div>\n",
       "<style scoped>\n",
       "    .dataframe tbody tr th:only-of-type {\n",
       "        vertical-align: middle;\n",
       "    }\n",
       "\n",
       "    .dataframe tbody tr th {\n",
       "        vertical-align: top;\n",
       "    }\n",
       "\n",
       "    .dataframe thead th {\n",
       "        text-align: right;\n",
       "    }\n",
       "</style>\n",
       "<table border=\"1\" class=\"dataframe\">\n",
       "  <thead>\n",
       "    <tr style=\"text-align: right;\">\n",
       "      <th></th>\n",
       "      <th>feature0</th>\n",
       "      <th>feature1</th>\n",
       "      <th>feature2</th>\n",
       "      <th>year</th>\n",
       "      <th>month</th>\n",
       "      <th>day</th>\n",
       "      <th>weather_cloudy</th>\n",
       "      <th>weather_rainy</th>\n",
       "      <th>weather_sunny</th>\n",
       "    </tr>\n",
       "  </thead>\n",
       "  <tbody>\n",
       "    <tr>\n",
       "      <th>count</th>\n",
       "      <td>957.000000</td>\n",
       "      <td>957.000000</td>\n",
       "      <td>957.000000</td>\n",
       "      <td>957.0</td>\n",
       "      <td>957.000000</td>\n",
       "      <td>957.000000</td>\n",
       "      <td>957.000000</td>\n",
       "      <td>957.000000</td>\n",
       "      <td>957.000000</td>\n",
       "    </tr>\n",
       "    <tr>\n",
       "      <th>mean</th>\n",
       "      <td>-0.029455</td>\n",
       "      <td>-0.045588</td>\n",
       "      <td>-0.000638</td>\n",
       "      <td>2021.0</td>\n",
       "      <td>1.993730</td>\n",
       "      <td>15.451411</td>\n",
       "      <td>0.324974</td>\n",
       "      <td>0.163009</td>\n",
       "      <td>0.512017</td>\n",
       "    </tr>\n",
       "    <tr>\n",
       "      <th>std</th>\n",
       "      <td>0.998751</td>\n",
       "      <td>0.965487</td>\n",
       "      <td>0.937174</td>\n",
       "      <td>0.0</td>\n",
       "      <td>0.830865</td>\n",
       "      <td>8.717497</td>\n",
       "      <td>0.468610</td>\n",
       "      <td>0.369567</td>\n",
       "      <td>0.500117</td>\n",
       "    </tr>\n",
       "    <tr>\n",
       "      <th>min</th>\n",
       "      <td>-3.046143</td>\n",
       "      <td>-3.116857</td>\n",
       "      <td>-2.994613</td>\n",
       "      <td>2021.0</td>\n",
       "      <td>1.000000</td>\n",
       "      <td>1.000000</td>\n",
       "      <td>0.000000</td>\n",
       "      <td>0.000000</td>\n",
       "      <td>0.000000</td>\n",
       "    </tr>\n",
       "    <tr>\n",
       "      <th>25%</th>\n",
       "      <td>-0.726712</td>\n",
       "      <td>-0.739936</td>\n",
       "      <td>-0.652761</td>\n",
       "      <td>2021.0</td>\n",
       "      <td>1.000000</td>\n",
       "      <td>8.000000</td>\n",
       "      <td>0.000000</td>\n",
       "      <td>0.000000</td>\n",
       "      <td>0.000000</td>\n",
       "    </tr>\n",
       "    <tr>\n",
       "      <th>50%</th>\n",
       "      <td>-0.028529</td>\n",
       "      <td>-0.060138</td>\n",
       "      <td>0.021351</td>\n",
       "      <td>2021.0</td>\n",
       "      <td>2.000000</td>\n",
       "      <td>15.000000</td>\n",
       "      <td>0.000000</td>\n",
       "      <td>0.000000</td>\n",
       "      <td>1.000000</td>\n",
       "    </tr>\n",
       "    <tr>\n",
       "      <th>75%</th>\n",
       "      <td>0.610379</td>\n",
       "      <td>0.596906</td>\n",
       "      <td>0.658802</td>\n",
       "      <td>2021.0</td>\n",
       "      <td>3.000000</td>\n",
       "      <td>23.000000</td>\n",
       "      <td>1.000000</td>\n",
       "      <td>0.000000</td>\n",
       "      <td>1.000000</td>\n",
       "    </tr>\n",
       "    <tr>\n",
       "      <th>max</th>\n",
       "      <td>3.170975</td>\n",
       "      <td>2.929096</td>\n",
       "      <td>2.680571</td>\n",
       "      <td>2021.0</td>\n",
       "      <td>3.000000</td>\n",
       "      <td>31.000000</td>\n",
       "      <td>1.000000</td>\n",
       "      <td>1.000000</td>\n",
       "      <td>1.000000</td>\n",
       "    </tr>\n",
       "  </tbody>\n",
       "</table>\n",
       "</div>"
      ],
      "text/plain": [
       "         feature0    feature1    feature2    year       month         day  \\\n",
       "count  957.000000  957.000000  957.000000   957.0  957.000000  957.000000   \n",
       "mean    -0.029455   -0.045588   -0.000638  2021.0    1.993730   15.451411   \n",
       "std      0.998751    0.965487    0.937174     0.0    0.830865    8.717497   \n",
       "min     -3.046143   -3.116857   -2.994613  2021.0    1.000000    1.000000   \n",
       "25%     -0.726712   -0.739936   -0.652761  2021.0    1.000000    8.000000   \n",
       "50%     -0.028529   -0.060138    0.021351  2021.0    2.000000   15.000000   \n",
       "75%      0.610379    0.596906    0.658802  2021.0    3.000000   23.000000   \n",
       "max      3.170975    2.929096    2.680571  2021.0    3.000000   31.000000   \n",
       "\n",
       "       weather_cloudy  weather_rainy  weather_sunny  \n",
       "count      957.000000     957.000000     957.000000  \n",
       "mean         0.324974       0.163009       0.512017  \n",
       "std          0.468610       0.369567       0.500117  \n",
       "min          0.000000       0.000000       0.000000  \n",
       "25%          0.000000       0.000000       0.000000  \n",
       "50%          0.000000       0.000000       1.000000  \n",
       "75%          1.000000       0.000000       1.000000  \n",
       "max          1.000000       1.000000       1.000000  "
      ]
     },
     "execution_count": 20,
     "metadata": {},
     "output_type": "execute_result"
    }
   ],
   "source": [
    "# Table summary, notice the mean to many of our tables are not zero.\n",
    "df[all_features].describe()"
   ]
  },
  {
   "cell_type": "code",
   "execution_count": 21,
   "metadata": {
    "editable": true
   },
   "outputs": [],
   "source": [
    "# Standarize feature values to have a zero mean\n",
    "scaler = StandardScaler()\n",
    "scaler.fit(df[all_features])\n",
    "df.loc[:, all_features] = scaler.transform(df[all_features])"
   ]
  },
  {
   "cell_type": "code",
   "execution_count": 22,
   "metadata": {
    "editable": true
   },
   "outputs": [
    {
     "data": {
      "text/html": [
       "<div>\n",
       "<style scoped>\n",
       "    .dataframe tbody tr th:only-of-type {\n",
       "        vertical-align: middle;\n",
       "    }\n",
       "\n",
       "    .dataframe tbody tr th {\n",
       "        vertical-align: top;\n",
       "    }\n",
       "\n",
       "    .dataframe thead th {\n",
       "        text-align: right;\n",
       "    }\n",
       "</style>\n",
       "<table border=\"1\" class=\"dataframe\">\n",
       "  <thead>\n",
       "    <tr style=\"text-align: right;\">\n",
       "      <th></th>\n",
       "      <th>feature0</th>\n",
       "      <th>feature1</th>\n",
       "      <th>feature2</th>\n",
       "      <th>year</th>\n",
       "      <th>month</th>\n",
       "      <th>day</th>\n",
       "      <th>weather_cloudy</th>\n",
       "      <th>weather_rainy</th>\n",
       "      <th>weather_sunny</th>\n",
       "    </tr>\n",
       "  </thead>\n",
       "  <tbody>\n",
       "    <tr>\n",
       "      <th>count</th>\n",
       "      <td>9.570000e+02</td>\n",
       "      <td>9.570000e+02</td>\n",
       "      <td>9.570000e+02</td>\n",
       "      <td>957.0</td>\n",
       "      <td>957.000000</td>\n",
       "      <td>9.570000e+02</td>\n",
       "      <td>9.570000e+02</td>\n",
       "      <td>9.570000e+02</td>\n",
       "      <td>9.570000e+02</td>\n",
       "    </tr>\n",
       "    <tr>\n",
       "      <th>mean</th>\n",
       "      <td>-1.484938e-17</td>\n",
       "      <td>1.856172e-17</td>\n",
       "      <td>-2.227407e-17</td>\n",
       "      <td>0.0</td>\n",
       "      <td>0.000000</td>\n",
       "      <td>-1.781925e-16</td>\n",
       "      <td>7.053455e-17</td>\n",
       "      <td>1.484938e-17</td>\n",
       "      <td>1.243635e-16</td>\n",
       "    </tr>\n",
       "    <tr>\n",
       "      <th>std</th>\n",
       "      <td>1.000523e+00</td>\n",
       "      <td>1.000523e+00</td>\n",
       "      <td>1.000523e+00</td>\n",
       "      <td>0.0</td>\n",
       "      <td>1.000523</td>\n",
       "      <td>1.000523e+00</td>\n",
       "      <td>1.000523e+00</td>\n",
       "      <td>1.000523e+00</td>\n",
       "      <td>1.000523e+00</td>\n",
       "    </tr>\n",
       "    <tr>\n",
       "      <th>min</th>\n",
       "      <td>-3.022041e+00</td>\n",
       "      <td>-3.182722e+00</td>\n",
       "      <td>-3.196355e+00</td>\n",
       "      <td>0.0</td>\n",
       "      <td>-1.196644</td>\n",
       "      <td>-1.658614e+00</td>\n",
       "      <td>-6.938474e-01</td>\n",
       "      <td>-4.413123e-01</td>\n",
       "      <td>-1.024329e+00</td>\n",
       "    </tr>\n",
       "    <tr>\n",
       "      <th>25%</th>\n",
       "      <td>-6.984945e-01</td>\n",
       "      <td>-7.195453e-01</td>\n",
       "      <td>-6.962042e-01</td>\n",
       "      <td>0.0</td>\n",
       "      <td>-1.196644</td>\n",
       "      <td>-8.552118e-01</td>\n",
       "      <td>-6.938474e-01</td>\n",
       "      <td>-4.413123e-01</td>\n",
       "      <td>-1.024329e+00</td>\n",
       "    </tr>\n",
       "    <tr>\n",
       "      <th>50%</th>\n",
       "      <td>9.274150e-04</td>\n",
       "      <td>-1.507826e-02</td>\n",
       "      <td>2.347576e-02</td>\n",
       "      <td>0.0</td>\n",
       "      <td>0.007550</td>\n",
       "      <td>-5.180921e-02</td>\n",
       "      <td>-6.938474e-01</td>\n",
       "      <td>-4.413123e-01</td>\n",
       "      <td>9.762485e-01</td>\n",
       "    </tr>\n",
       "    <tr>\n",
       "      <th>75%</th>\n",
       "      <td>6.409693e-01</td>\n",
       "      <td>6.658094e-01</td>\n",
       "      <td>7.040158e-01</td>\n",
       "      <td>0.0</td>\n",
       "      <td>1.211744</td>\n",
       "      <td>8.663652e-01</td>\n",
       "      <td>1.441239e+00</td>\n",
       "      <td>-4.413123e-01</td>\n",
       "      <td>9.762485e-01</td>\n",
       "    </tr>\n",
       "    <tr>\n",
       "      <th>max</th>\n",
       "      <td>3.206108e+00</td>\n",
       "      <td>3.082632e+00</td>\n",
       "      <td>2.862448e+00</td>\n",
       "      <td>0.0</td>\n",
       "      <td>1.211744</td>\n",
       "      <td>1.784540e+00</td>\n",
       "      <td>1.441239e+00</td>\n",
       "      <td>2.265969e+00</td>\n",
       "      <td>9.762485e-01</td>\n",
       "    </tr>\n",
       "  </tbody>\n",
       "</table>\n",
       "</div>"
      ],
      "text/plain": [
       "           feature0      feature1      feature2   year       month  \\\n",
       "count  9.570000e+02  9.570000e+02  9.570000e+02  957.0  957.000000   \n",
       "mean  -1.484938e-17  1.856172e-17 -2.227407e-17    0.0    0.000000   \n",
       "std    1.000523e+00  1.000523e+00  1.000523e+00    0.0    1.000523   \n",
       "min   -3.022041e+00 -3.182722e+00 -3.196355e+00    0.0   -1.196644   \n",
       "25%   -6.984945e-01 -7.195453e-01 -6.962042e-01    0.0   -1.196644   \n",
       "50%    9.274150e-04 -1.507826e-02  2.347576e-02    0.0    0.007550   \n",
       "75%    6.409693e-01  6.658094e-01  7.040158e-01    0.0    1.211744   \n",
       "max    3.206108e+00  3.082632e+00  2.862448e+00    0.0    1.211744   \n",
       "\n",
       "                day  weather_cloudy  weather_rainy  weather_sunny  \n",
       "count  9.570000e+02    9.570000e+02   9.570000e+02   9.570000e+02  \n",
       "mean  -1.781925e-16    7.053455e-17   1.484938e-17   1.243635e-16  \n",
       "std    1.000523e+00    1.000523e+00   1.000523e+00   1.000523e+00  \n",
       "min   -1.658614e+00   -6.938474e-01  -4.413123e-01  -1.024329e+00  \n",
       "25%   -8.552118e-01   -6.938474e-01  -4.413123e-01  -1.024329e+00  \n",
       "50%   -5.180921e-02   -6.938474e-01  -4.413123e-01   9.762485e-01  \n",
       "75%    8.663652e-01    1.441239e+00  -4.413123e-01   9.762485e-01  \n",
       "max    1.784540e+00    1.441239e+00   2.265969e+00   9.762485e-01  "
      ]
     },
     "execution_count": 22,
     "metadata": {},
     "output_type": "execute_result"
    }
   ],
   "source": [
    "# Verify our features we are using now all have zero mean\n",
    "df[all_features].describe()"
   ]
  },
  {
   "cell_type": "code",
   "execution_count": 23,
   "metadata": {
    "editable": true
   },
   "outputs": [],
   "source": [
    "# train: 0.8 | test: 0.2\n",
    "df_train, df_test = train_test_split(df, test_size=0.2, random_state=0)\n",
    "\n",
    "# train: 0.6 | validation: 0.2\n",
    "df_train, df_val = train_test_split(df_train, test_size=0.25, random_state=0)\n",
    "\n",
    "# Final dataset sizes: train: 0.6, validation: 0.2, text: 0.2,"
   ]
  },
  {
   "cell_type": "code",
   "execution_count": 24,
   "metadata": {
    "editable": true
   },
   "outputs": [
    {
     "name": "stdout",
     "output_type": "stream",
     "text": [
      "Train: (573, 12)\n",
      "Validation: (192, 12)\n",
      "Test: (192, 12)\n"
     ]
    }
   ],
   "source": [
    "# Output each shape to confirm the size of train/validation/test\n",
    "print(f\"Train: {df_train.shape}\")\n",
    "print(f\"Validation: {df_val.shape}\")\n",
    "print(f\"Test: {df_test.shape}\")"
   ]
  },
  {
   "cell_type": "code",
   "execution_count": 25,
   "metadata": {
    "editable": true
   },
   "outputs": [
    {
     "ename": "SyntaxError",
     "evalue": "EOL while scanning string literal (<ipython-input-25-277fd4ff1e8f>, line 2)",
     "output_type": "error",
     "traceback": [
      "\u001b[0;36m  File \u001b[0;32m\"<ipython-input-25-277fd4ff1e8f>\"\u001b[0;36m, line \u001b[0;32m2\u001b[0m\n\u001b[0;31m    df.to_csv('data_clean.csv)\u001b[0m\n\u001b[0m                              ^\u001b[0m\n\u001b[0;31mSyntaxError\u001b[0m\u001b[0;31m:\u001b[0m EOL while scanning string literal\n"
     ]
    }
   ],
   "source": [
    "# Save all clean data, and the train, validation, test data as csv\n",
    "df.to_csv('data_clean.csv)\n",
    "df_train.to_csv('train.csv')\n",
    "df_val.to_csv('val.csv')\n",
    "df_test.to_csv('test.csv')"
   ]
  },
  {
   "cell_type": "code",
   "execution_count": null,
   "metadata": {
    "editable": true
   },
   "outputs": [],
   "source": []
  }
 ],
 "metadata": {
  "kernelspec": {
   "display_name": "Python 3",
   "language": "python",
   "name": "python3"
  },
  "language_info": {
   "codemirror_mode": {
    "name": "ipython",
    "version": 3
   },
   "file_extension": ".py",
   "mimetype": "text/x-python",
   "name": "python",
   "nbconvert_exporter": "python",
   "pygments_lexer": "ipython3",
   "version": "3.6.3"
  }
 },
 "nbformat": 4,
 "nbformat_minor": 5
}
